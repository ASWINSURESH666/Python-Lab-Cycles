{
  "nbformat": 4,
  "nbformat_minor": 0,
  "metadata": {
    "colab": {
      "provenance": [],
      "authorship_tag": "ABX9TyNE8SE8tKooigNkmY1C2SqA",
      "include_colab_link": true
    },
    "kernelspec": {
      "name": "python3",
      "display_name": "Python 3"
    },
    "language_info": {
      "name": "python"
    }
  },
  "cells": [
    {
      "cell_type": "markdown",
      "metadata": {
        "id": "view-in-github",
        "colab_type": "text"
      },
      "source": [
        "<a href=\"https://colab.research.google.com/github/ASWINSURESH666/Python-Lab-Cycles-1/blob/main/Python_Lab_Cycle_2.ipynb\" target=\"_parent\"><img src=\"https://colab.research.google.com/assets/colab-badge.svg\" alt=\"Open In Colab\"/></a>"
      ]
    },
    {
      "cell_type": "code",
      "execution_count": null,
      "metadata": {
        "id": "Djm9-sVgMaf_",
        "colab": {
          "base_uri": "https://localhost:8080/"
        },
        "outputId": "78fe008d-64ab-49d8-9e44-c0bdfb302a63"
      },
      "outputs": [
        {
          "output_type": "stream",
          "name": "stdout",
          "text": [
            "Enter the number of months: 20\n",
            "Month\tPairs\n",
            "1\t1\n",
            "2\t1\n",
            "3\t2\n",
            "4\t3\n",
            "5\t5\n",
            "6\t8\n",
            "7\t13\n",
            "8\t21\n",
            "9\t34\n",
            "10\t55\n",
            "11\t89\n",
            "12\t144\n",
            "13\t233\n",
            "14\t377\n",
            "15\t610\n",
            "16\t987\n",
            "17\t1597\n",
            "18\t2584\n",
            "19\t4181\n",
            "20\t6765\n"
          ]
        }
      ],
      "source": [
        "#1. suppose a newly born pair if rabbits ,one male and one female ,are put in field. Rabbits can mate at the age of one month so that at the end of its second month, a female has produced another pair of rabbits. \n",
        "# Suppose that our rabbits neer die and that the female always produces one pair evry month from the second month.\n",
        "# Develope a program to show a table containing the numer of pairs of rabbits in the first N months\n",
        "\n",
        "def rabbitPairs(n):\n",
        "    if n <= 0:\n",
        "        return 0\n",
        "    elif n == 1 or n == 2:\n",
        "        return 1\n",
        "    else:\n",
        "        # Set the initial number of pairs to 1\n",
        "        pairs = 1\n",
        "        # Set the number of pairs in the previous month to 1\n",
        "        prev_pairs = 1\n",
        "        for i in range(3, n+1):\n",
        "            # Calculate the new number of pairs by adding the number of pairs in the previous 2 months\n",
        "            new_pairs = pairs + prev_pairs\n",
        "            # Update the number of pairs in the previous month\n",
        "            prev_pairs = pairs\n",
        "            # Update the number of pairs for the current month\n",
        "            pairs = new_pairs\n",
        "        return pairs\n",
        "\n",
        "# Get the input from the user\n",
        "n = int(input(\"Enter the number of months: \"))\n",
        "\n",
        "# Print the table\n",
        "print(\"Month\\tPairs\")\n",
        "for i in range(1, n+1):\n",
        "    print(str(i) + \"\\t\" + str(rabbitPairs(i)))\n"
      ]
    },
    {
      "cell_type": "code",
      "source": [
        "#2.Write a program to read a string containing numbers sperated by a space and convert it as a list of integers. Perform the following operations on it.\n",
        "#1.Rotate elements in a list by 'k' position to the right\n",
        "#2. Convert the list into a tuple using list comprehension\n",
        "#3.Remove all duplicates from the tuple and convert them into alist again.\n",
        "#4.Create another list by putting the results of the evaluation of the function f(x) = x^2 - x with each element in the final list\n",
        "#5.After sorting them individually, merge the two lists to create a single sorted list\n",
        "\n",
        "def rotate_list_by_k_pos(lst, k):\n",
        "    n = len(lst)\n",
        "    k = k % n\n",
        "    return lst[-k:] + lst[:-k]\n",
        "\n",
        "# Step 1: Read a string containing space-separated numbers and convert it to a list of integers\n",
        "input_str = input(\"Enter a space-separated string of numbers: \")\n",
        "lst = list(map(int, input_str.split()))\n",
        "\n",
        "# Step 2: Rotate the list to the right by a given number of positions\n",
        "k = int(input(\"How many times do you want to rotate the list to the right? \"))\n",
        "lst = rotate_list_by_k_pos(lst, k)\n",
        "\n",
        "# Step 3: Convert the list to a tuple using list comprehension\n",
        "tpl = tuple([x for x in lst])\n",
        "\n",
        "# Step 4: Remove duplicates from the tuple and convert it to a list again\n",
        "lst = list(set(tpl))\n",
        "\n",
        "# Step 5: Evaluate the function f(x) = x^2 - x for each element in the list\n",
        "def f(x):\n",
        "    return x**2 - x\n",
        "\n",
        "lst_f = [f(x) for x in lst]\n",
        "\n",
        "# Step 6: Sort the two lists individually and merge them to create a single sorted list\n",
        "lst_sorted = sorted(lst_f) + sorted(lst)\n",
        "\n",
        "print(lst_sorted)"
      ],
      "metadata": {
        "colab": {
          "base_uri": "https://localhost:8080/"
        },
        "id": "ZYA45XTuBcBA",
        "outputId": "b022206c-202b-4073-8b11-866a15fd2fe1"
      },
      "execution_count": null,
      "outputs": [
        {
          "output_type": "stream",
          "name": "stdout",
          "text": [
            "Enter a space-separated string of numbers: 5 6 4 3 2 7 4 9\n",
            "How many times do you want to rotate the list to the right? 2\n",
            "[2, 6, 12, 20, 30, 42, 72, 2, 3, 4, 5, 6, 7, 9]\n"
          ]
        }
      ]
    },
    {
      "cell_type": "code",
      "source": [
        "import json\n",
        "\n",
        "def readAsList(filepath):\n",
        "    fp = open(filepath,'r')\n",
        "    #list having each line of json as elements\n",
        "    jsonList = fp.readlines()\n",
        "    fp.close()\n",
        "    return jsonList\n",
        "\n",
        "def readAsListOfDict(filepath):\n",
        "    fp = open(filepath,'r')\n",
        "    #list having dictionary of objects.\n",
        "    jsonData = json.load(fp)\n",
        "    fp.close()\n",
        "    return jsonData\n",
        "\n",
        "def printSetosa(jsonList):\n",
        "    #printing the details of only setosa.\n",
        "    print(\"\\nDetails of flowers of species setosa\")\n",
        "    for i in jsonList:\n",
        "        if(i['species']=='setosa'):\n",
        "            print(i)\n",
        "\n",
        "def sepalAreaAndPetalArea(jsonList):\n",
        "    #list to store species names.\n",
        "    listOfSpeciesName = list()\n",
        "    for i in jsonList:\n",
        "        #appending the different species name to the list.\n",
        "        listOfSpeciesName.append(i['species'])\n",
        "    #removing duplicates to get unique species.\n",
        "    listOfSpeciesName = list(set(listOfSpeciesName))\n",
        "    #list to store sepal and petal area.\n",
        "    sepalArea = list()\n",
        "    petalArea = list()\n",
        "    for i in listOfSpeciesName:\n",
        "        for j in jsonList:\n",
        "            if(j['species']==i):\n",
        "                sepalArea.append(j['sepalLength']*j['sepalWidth'])\n",
        "                petalArea.append(j['petalLength']*j['petalWidth'])\n",
        "        print()\n",
        "        print(i.capitalize())\n",
        "        #printing minimum and maximum areas.\n",
        "        print(\"Maximum Sepal Area in \",i.capitalize(),\" is \",round(max(sepalArea),2))\n",
        "        print(\"Minimum Petal Area in \",i.capitalize(),\" is \",round(min(petalArea),2))\n",
        "        sepalArea.clear()\n",
        "        petalArea.clear()\n",
        "\n",
        "def sortTotalArea(jsonList):\n",
        "    for i in jsonList:\n",
        "        #adding total area to the each dictionary\n",
        "        totalArea = (i['petalLength']*i['petalWidth'])+(i['sepalLength']*i['sepalWidth'])\n",
        "        i.update({'totalArea':round(totalArea,2)})\n",
        "    #list sorted according to total area\n",
        "    sortedList = sorted(jsonList,key=lambda i:i['totalArea'])\n",
        "    print(\"\\nList sorted on the basis of total area\")\n",
        "    for i in sortedList:\n",
        "        print(i)\n",
        "\n",
        "#path where target file is stored.\n",
        "filePath = r'D:\\C++ programs\\python\\iris.json'\n",
        "jsonList = readAsList(filePath)\n",
        "print(\"List with each line as element\\n\")\n",
        "for line in jsonList:\n",
        "    print(line)\n",
        "\n",
        "jsonData = readAsListOfDict(filePath)\n",
        "print(\"\\nList of Dictionaries\")\n",
        "for i in jsonData:\n",
        "    for key, values in i.items():\n",
        "        print(key.capitalize()+\" : \",values,end=\" , \")\n",
        "    print()\n",
        "\n",
        "printSetosa(jsonData)\n",
        "sepalAreaAndPetalArea(jsonData)\n",
        "sortTotalArea(jsonData)"
      ],
      "metadata": {
        "id": "BTr4jLcWCIVn"
      },
      "execution_count": null,
      "outputs": []
    },
    {
      "cell_type": "code",
      "source": [
        "#4.Write a program to create a class box with data members length,breadth ,height, area, and volume. \n",
        "# Provider constructor that enables initialization with one parameter (for cube), two parameters(for square prism) three parameters (rectangular prism).Also,provide functions to calculate area and volume.\n",
        "# Create a list of N boxes with random measeurements and print the detils of the box with maximum volume: area ratio.\n",
        "\n",
        "class Box:\n",
        "    def __init__(self, length, breadth, height):\n",
        "        self.length = length\n",
        "        self.breadth = breadth\n",
        "        self.height = height\n",
        "        self.area = self.calculate_area()\n",
        "        self.volume = self.calculate_volume()\n",
        "\n",
        "    def calculate_area(self):\n",
        "        return 2 * (self.length * self.breadth + self.length * self.height + self.breadth * self.height)\n",
        "\n",
        "    def calculate_volume(self):\n",
        "        return self.length * self.breadth * self.height\n",
        "\n",
        "N = int(input(\"Enter the number of boxes to create: \"))\n",
        "boxes = []\n",
        "for i in range(N):\n",
        "    length = float(input(f\"Enter the length of box {i+1}: \"))\n",
        "    breadth = float(input(f\"Enter the breadth of box {i+1}: \"))\n",
        "    height = float(input(f\"Enter the height of box {i+1}: \"))\n",
        "    box = Box(length, breadth, height)\n",
        "    boxes.append(box)\n",
        "\n",
        "max_ratio = 0\n",
        "max_box = None\n",
        "for box in boxes:\n",
        "    ratio = box.volume / box.area\n",
        "    if ratio > max_ratio:\n",
        "        max_ratio = ratio\n",
        "        max_box = box\n",
        "\n",
        "print(f\"Box with maximum volume:area ratio is {max_box.length}x{max_box.breadth}x{max_box.height}, \"\n",
        "      f\"with volume {max_box.volume} and area {max_box.area}, ratio {max_ratio}\")\n"
      ],
      "metadata": {
        "colab": {
          "base_uri": "https://localhost:8080/"
        },
        "id": "tFdVuoGSKII6",
        "outputId": "87ccf940-2c6b-412c-e236-370f6303c924"
      },
      "execution_count": null,
      "outputs": [
        {
          "output_type": "stream",
          "name": "stdout",
          "text": [
            "Enter the number of boxes to create: 3\n",
            "Enter the length of box 1: 2\n",
            "Enter the breadth of box 1: 3\n",
            "Enter the height of box 1: 4\n",
            "Enter the length of box 2: 5\n",
            "Enter the breadth of box 2: 6\n",
            "Enter the height of box 2: 7\n",
            "Enter the length of box 3: 8\n",
            "Enter the breadth of box 3: 9\n",
            "Enter the height of box 3: 2\n",
            "Box with maximum volume:area ratio is 5.0x6.0x7.0, with volume 210.0 and area 214.0, ratio 0.9813084112149533\n"
          ]
        }
      ]
    },
    {
      "cell_type": "code",
      "source": [
        "#5.write a program to create a parent class, 3D Shapes, with methods printvolume() and printArea(), which prints the volume and area,respectively.\n",
        "#Create class cylinder and sphere by inheriting 3DShapes class. Using these child classes ,\n",
        "#calculate and print the volume and area of a cylinder and sphere.\n",
        "\n",
        "import math\n",
        "\n",
        "class Shapes3D:\n",
        "    def printVolume(self):\n",
        "        pass\n",
        "\n",
        "    def printArea(self):\n",
        "        pass\n",
        "\n",
        "class Cylinder(Shapes3D):\n",
        "    def __init__(self, radius, height):\n",
        "        self.radius = radius\n",
        "        self.height = height\n",
        "\n",
        "    def printVolume(self):\n",
        "        volume = math.pi * self.radius ** 2 * self.height\n",
        "        print(f\"Volume of cylinder with radius {self.radius} and height {self.height}: {volume:.2f}\")\n",
        "\n",
        "    def printArea(self):\n",
        "        area = 2 * math.pi * self.radius * (self.radius + self.height)\n",
        "        print(f\"Surface area of cylinder with radius {self.radius} and height {self.height}: {area:.2f}\")\n",
        "\n",
        "\n",
        "class Sphere(Shapes3D):\n",
        "    def __init__(self, radius):\n",
        "        self.radius = radius\n",
        "\n",
        "    def printVolume(self):\n",
        "        volume = 4/3 * math.pi * self.radius ** 3\n",
        "        print(f\"Volume of sphere with radius {self.radius}: {volume:.2f}\")\n",
        "\n",
        "    def printArea(self):\n",
        "        area = 4 * math.pi * self.radius ** 2\n",
        "        print(f\"Surface area of sphere with radius {self.radius}: {area:.2f}\")\n",
        "    \n",
        "\n",
        "# Prompt user for dimensions of cylinder\n",
        "cylinder_radius = float(input(\"===Enter the radius of the cylinder: === \"))\n",
        "cylinder_height = float(input(\"===Enter the height of the cylinder: === \"))\n",
        "cylinder = Cylinder(cylinder_radius, cylinder_height)\n",
        "cylinder.printVolume()\n",
        "cylinder.printArea()\n",
        "\n",
        "# Prompt user for dimensions of sphere\n",
        "sphere_radius = float(input(\"===Enter the radius of the sphere: === \"))\n",
        "sphere = Sphere(sphere_radius)\n",
        "sphere.printVolume()\n",
        "sphere.printArea()\n"
      ],
      "metadata": {
        "colab": {
          "base_uri": "https://localhost:8080/"
        },
        "id": "LJVBa1ooKesC",
        "outputId": "7636c803-da45-4021-ab78-7fb588e4813c"
      },
      "execution_count": null,
      "outputs": [
        {
          "output_type": "stream",
          "name": "stdout",
          "text": [
            "===Enter the radius of the cylinder: === 4\n",
            "===Enter the height of the cylinder: === 5\n",
            "Volume of cylinder with radius 4.0 and height 5.0: 251.33\n",
            "Surface area of cylinder with radius 4.0 and height 5.0: 226.19\n",
            "===Enter the radius of the sphere: === 5\n",
            "Volume of sphere with radius 5.0: 523.60\n",
            "Surface area of sphere with radius 5.0: 314.16\n"
          ]
        }
      ]
    }
  ]
}